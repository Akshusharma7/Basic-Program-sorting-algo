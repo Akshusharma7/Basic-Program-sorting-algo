{
 "cells": [
  {
   "cell_type": "markdown",
   "metadata": {},
   "source": [
    "## Armstrong Number"
   ]
  },
  {
   "cell_type": "markdown",
   "metadata": {},
   "source": [
    "### Number of \"n\" digits which are equal to the sum of \"nth\" power of its digits is called Armstrong Number"
   ]
  },
  {
   "cell_type": "code",
   "execution_count": 1,
   "metadata": {},
   "outputs": [
    {
     "name": "stdout",
     "output_type": "stream",
     "text": [
      "0 1 2 3 4 5 6 7 8 9 153 370 371 407 "
     ]
    }
   ],
   "source": [
    "for i in range(1001):\n",
    "    num = i\n",
    "    result = 0\n",
    "    n= len(str(i))\n",
    "    while(i != 0):\n",
    "        digit = i%10\n",
    "        result = result + digit **n\n",
    "        i = i//10\n",
    "    if(num == result):\n",
    "        print(result,end=\" \")\n"
   ]
  },
  {
   "cell_type": "code",
   "execution_count": 9,
   "metadata": {},
   "outputs": [
    {
     "name": "stdout",
     "output_type": "stream",
     "text": [
      "Not Armstrong Number\n"
     ]
    }
   ],
   "source": [
    "num = 151\n",
    "temp = num\n",
    "result = 0\n",
    "n = len(str(num))\n",
    "while(num != 0):\n",
    "    digit = num%10\n",
    "    result = result + digit**n\n",
    "    num = num//10\n",
    "if(temp == result):\n",
    "    print(\"A Armstrong Number\")\n",
    "else: \n",
    "    print(\"Not Armstrong Number\")"
   ]
  },
  {
   "cell_type": "markdown",
   "metadata": {},
   "source": [
    "###  Printing Numbers in Right Triangle Shape"
   ]
  },
  {
   "cell_type": "code",
   "execution_count": 13,
   "metadata": {},
   "outputs": [
    {
     "name": "stdout",
     "output_type": "stream",
     "text": [
      "Enter the number of rows :5\n",
      "1 \n",
      "1 2 \n",
      "1 2 3 \n",
      "1 2 3 4 \n",
      "1 2 3 4 5 \n"
     ]
    }
   ],
   "source": [
    "n = int(input(\"Enter the number of rows :\"))\n",
    "for i in range(1, n+1):\n",
    "    for j in range(1, i+1):\n",
    "        print(j, end=\" \")\n",
    "    print()\n"
   ]
  },
  {
   "cell_type": "code",
   "execution_count": 15,
   "metadata": {},
   "outputs": [
    {
     "name": "stdout",
     "output_type": "stream",
     "text": [
      "Enter the number of rows :3\n",
      "1 \n",
      "2 2 \n",
      "3 3 3 \n"
     ]
    }
   ],
   "source": [
    "n = int(input(\"Enter the number of rows :\"))\n",
    "for i in range(1, n+1):\n",
    "    for j in range(1, i+1):\n",
    "        print(i, end=\" \")#Changed j to i for same number to display\n",
    "    print()"
   ]
  },
  {
   "cell_type": "markdown",
   "metadata": {},
   "source": [
    "### Printing Stars in Hollow Right Triangle Shape"
   ]
  },
  {
   "cell_type": "code",
   "execution_count": 23,
   "metadata": {},
   "outputs": [
    {
     "name": "stdout",
     "output_type": "stream",
     "text": [
      "Enter the row count:7\n",
      "*      \n",
      "**     \n",
      "* *    \n",
      "*  *   \n",
      "*   *  \n",
      "*    * \n",
      "*******\n"
     ]
    }
   ],
   "source": [
    "n = int(input(\"Enter the row count:\"))\n",
    "for row in range(n):\n",
    "    for col in range(n):\n",
    "        if col == 0 or row ==(n-1) or row == col:\n",
    "            print(\"*\", end=\"\")\n",
    "        else:\n",
    "            print(end=\" \")\n",
    "    print()\n",
    "        "
   ]
  },
  {
   "cell_type": "markdown",
   "metadata": {},
   "source": [
    "#### Printing Stars in Hollow Right Triangle Shape\n"
   ]
  },
  {
   "cell_type": "code",
   "execution_count": 6,
   "metadata": {},
   "outputs": [
    {
     "name": "stdout",
     "output_type": "stream",
     "text": [
      "Enter the row for trangle :6\n",
      "******\n",
      " *   *\n",
      "  *  *\n",
      "   * *\n",
      "    **\n",
      "     *\n"
     ]
    }
   ],
   "source": [
    "n = int(input(\"Enter the row for trangle :\"))\n",
    "for row in range(0, n):\n",
    "    for col in range(0, n):\n",
    "        if row == 0 or col == (n-1) or row == col:\n",
    "            print(\"*\", end= \"\")\n",
    "        else:\n",
    "            print(end=\" \")\n",
    "    print()"
   ]
  },
  {
   "cell_type": "markdown",
   "metadata": {},
   "source": [
    "### Factorial Program using In-Built Function"
   ]
  },
  {
   "cell_type": "markdown",
   "metadata": {},
   "source": [
    "#### factorial of non-negative integer n, denoted by n!. Is the product of all positive integer less then or equal to n.\n",
    "1. using fact built in function from math library\n",
    "2. using Recursion\n",
    "3. using Loop\n"
   ]
  },
  {
   "cell_type": "code",
   "execution_count": 28,
   "metadata": {},
   "outputs": [
    {
     "name": "stdout",
     "output_type": "stream",
     "text": [
      "Enter the number you want to know factorial:5\n",
      "Factorial of 5 is : 120\n"
     ]
    }
   ],
   "source": [
    "import math\n",
    "n = int(input(\"Enter the number you want to know factorial:\"))\n",
    "result = math.factorial(n)\n",
    "print(\"Factorial of {} is : {}\".format(n,result))"
   ]
  },
  {
   "cell_type": "markdown",
   "metadata": {},
   "source": [
    "#### Recursion : when a function call itself is called Recursive function"
   ]
  },
  {
   "cell_type": "code",
   "execution_count": 30,
   "metadata": {},
   "outputs": [
    {
     "name": "stdout",
     "output_type": "stream",
     "text": [
      "Enter the number you want to know factorial:4\n",
      "Factorial of 4 is : 24\n"
     ]
    }
   ],
   "source": [
    "def fact(n):\n",
    "    if n ==0:\n",
    "        return 1\n",
    "    else:\n",
    "        return n*fact(n-1) # Again fact(n-1) wil call fact function and pause the previous and it will continue till fact(0) and then return \n",
    "  \n",
    "n = int(input(\"Enter the number you want to know factorial:\"))\n",
    "result = fact(n)\n",
    "print(\"Factorial of {} is : {}\".format(n,result))"
   ]
  },
  {
   "cell_type": "markdown",
   "metadata": {},
   "source": [
    "#### Factorial Program Using for loop"
   ]
  },
  {
   "cell_type": "code",
   "execution_count": 32,
   "metadata": {},
   "outputs": [
    {
     "name": "stdout",
     "output_type": "stream",
     "text": [
      "Enter the number you want to know factorial:4\n",
      "Factorial of 4 is : 24\n"
     ]
    }
   ],
   "source": [
    "n = int(input(\"Enter the number you want to know factorial:\"))\n",
    "result = 1\n",
    "for i in range(n, 0, -1):\n",
    "    result = result*i\n",
    "    \n",
    "print(\"Factorial of {} is : {}\".format(n,result))"
   ]
  },
  {
   "cell_type": "markdown",
   "metadata": {},
   "source": [
    "### Floyd's Triangle | Printing Numbers in Right Triangle Shape"
   ]
  },
  {
   "cell_type": "code",
   "execution_count": 9,
   "metadata": {},
   "outputs": [
    {
     "name": "stdout",
     "output_type": "stream",
     "text": [
      "Enter the row limit for Floyd's Traingle4\n",
      "1 \n",
      "2 3 \n",
      "4 5 6 \n",
      "7 8 9 10 \n"
     ]
    }
   ],
   "source": [
    "n= int(input(\"Enter the row limit for Floyd's Traingle\"))\n",
    "num = 1\n",
    "for row in range(1, n+1):\n",
    "    for col in range(1, row+1):\n",
    "        print(num, end=\" \")\n",
    "        num = num+1\n",
    "    print()"
   ]
  },
  {
   "cell_type": "markdown",
   "metadata": {},
   "source": [
    "### Printing Strings in Right Triangle Shape"
   ]
  },
  {
   "cell_type": "code",
   "execution_count": 12,
   "metadata": {},
   "outputs": [
    {
     "name": "stdout",
     "output_type": "stream",
     "text": [
      "Enter the string : python\n",
      "p\n",
      "py\n",
      "pyt\n",
      "pyth\n",
      "pytho\n",
      "python\n"
     ]
    }
   ],
   "source": [
    "string = input(\"Enter the string : \")\n",
    "length = len(string)\n",
    "for row in range(length):\n",
    "    for col in range(row+1):\n",
    "        print(string[col], end=\"\")\n",
    "    print()\n"
   ]
  },
  {
   "cell_type": "markdown",
   "metadata": {},
   "source": [
    "### Fibonacci Series"
   ]
  },
  {
   "cell_type": "code",
   "execution_count": 20,
   "metadata": {},
   "outputs": [
    {
     "name": "stdout",
     "output_type": "stream",
     "text": [
      "Enter the number of series you want to print: 10\n",
      "Fibonacci Series is : 0 1 1 2 3 5 8 13 21 34 "
     ]
    }
   ],
   "source": [
    "n = int(input(\"Enter the number of series you want to print: \"))\n",
    "first = 0\n",
    "second = 1\n",
    "print(\"Fibonacci Series is :\", end=' ')\n",
    "for i in range(n):\n",
    "    print(first, end = \" \")\n",
    "    temp = first\n",
    "    first = second\n",
    "    second = temp + second\n",
    "    \n"
   ]
  },
  {
   "cell_type": "markdown",
   "metadata": {},
   "source": [
    "### Printing Numbers in Right Triangle Shape"
   ]
  },
  {
   "cell_type": "code",
   "execution_count": 21,
   "metadata": {},
   "outputs": [
    {
     "name": "stdout",
     "output_type": "stream",
     "text": [
      "Enter the row Limit : 5\n",
      "12345\n",
      "1234\n",
      "123\n",
      "12\n",
      "1\n"
     ]
    }
   ],
   "source": [
    "n = int(input(\"Enter the row Limit : \"))\n",
    "for row in range(n, 0, -1):\n",
    "    for col in range(1,row+1):\n",
    "        print(col, end='')\n",
    "    print()"
   ]
  },
  {
   "cell_type": "code",
   "execution_count": 23,
   "metadata": {},
   "outputs": [
    {
     "name": "stdout",
     "output_type": "stream",
     "text": [
      "Enter the row Limit : 5\n",
      "55555\n",
      "4444\n",
      "333\n",
      "22\n",
      "1\n"
     ]
    }
   ],
   "source": [
    "n = int(input(\"Enter the row Limit : \"))\n",
    "for row in range(n, 0, -1):\n",
    "    for col in range(1,row+1):\n",
    "        print(row, end='') # Change to row\n",
    "    print()"
   ]
  },
  {
   "cell_type": "markdown",
   "metadata": {},
   "source": [
    "### Prime Numbers in Given Interval"
   ]
  },
  {
   "cell_type": "markdown",
   "metadata": {},
   "source": [
    "#### Prime number is a natural number grater then 1 that has no positive divisor other then 1 and itself"
   ]
  },
  {
   "cell_type": "code",
   "execution_count": 27,
   "metadata": {},
   "outputs": [
    {
     "name": "stdout",
     "output_type": "stream",
     "text": [
      "Enter the lower Limit : 5\n",
      "Enter the upper Limit : 15\n",
      "5\n",
      "7\n",
      "11\n",
      "13\n"
     ]
    }
   ],
   "source": [
    "lower = int(input(\"Enter the lower Limit : \"))\n",
    "upper = int(input(\"Enter the upper Limit : \"))\n",
    "for num in range(lower, upper+1):\n",
    "    if num>1:\n",
    "        for i in range(2,num):\n",
    "            if (num%i)==0:\n",
    "                break\n",
    "        else:\n",
    "            print(num)\n",
    "            "
   ]
  },
  {
   "cell_type": "markdown",
   "metadata": {},
   "source": [
    "#### To check number is prime or not"
   ]
  },
  {
   "cell_type": "code",
   "execution_count": 7,
   "metadata": {},
   "outputs": [
    {
     "name": "stdout",
     "output_type": "stream",
     "text": [
      "Enter the number : 1\n",
      "1  Not the prime number.\n"
     ]
    }
   ],
   "source": [
    "num = int(input(\"Enter the number : \"))\n",
    "\n",
    "if num>1:\n",
    "    for i in range(2, num):\n",
    "        if (num%i) == 0:\n",
    "            print(num,\" Not a prime number.\")\n",
    "            break\n",
    "    else: \n",
    "        print(num,\" is a prime number.\")\n",
    "else: \n",
    "    print(num,\" Not the prime number.\")"
   ]
  },
  {
   "cell_type": "markdown",
   "metadata": {},
   "source": [
    "### Printing Stars in Hollow Equilateral Triangle Shape | Pyramid Pattern"
   ]
  },
  {
   "cell_type": "code",
   "execution_count": 8,
   "metadata": {},
   "outputs": [
    {
     "name": "stdout",
     "output_type": "stream",
     "text": [
      "   *   \n",
      "  * *  \n",
      " *   * \n",
      "*******\n"
     ]
    }
   ],
   "source": [
    "for row in range(1, 5):\n",
    "    for col in range(1, 8):\n",
    "        if row ==4 or row+col == 5 or col-row ==3:\n",
    "            print(\"*\", end=\"\")\n",
    "        else:\n",
    "            print(end=\" \")\n",
    "    print()"
   ]
  },
  {
   "cell_type": "code",
   "execution_count": 9,
   "metadata": {},
   "outputs": [
    {
     "name": "stdout",
     "output_type": "stream",
     "text": [
      "Enter the row number: 6\n",
      "     *     \n",
      "    * *    \n",
      "   *   *   \n",
      "  *     *  \n",
      " *       * \n",
      "***********\n"
     ]
    }
   ],
   "source": [
    "n = int(input(\"Enter the row number: \"))\n",
    "for row in range(1, n+1):\n",
    "    for col in range(1, 2*n):\n",
    "        if row == n or row+col ==n+1 or col-row == n-1:\n",
    "            print(\"*\", end=\"\")\n",
    "        else:\n",
    "            print(end=\" \")\n",
    "    print()"
   ]
  },
  {
   "cell_type": "code",
   "execution_count": null,
   "metadata": {},
   "outputs": [],
   "source": []
  },
  {
   "cell_type": "code",
   "execution_count": 1,
   "metadata": {},
   "outputs": [
    {
     "name": "stdout",
     "output_type": "stream",
     "text": [
      "Enter the row number: 6\n",
      "     *     \n",
      "    * *    \n",
      "   *   *   \n",
      "  *     *  \n",
      " *       * \n",
      "* * * * * *\n"
     ]
    }
   ],
   "source": [
    "n = int(input(\"Enter the row number: \"))\n",
    "k = 2\n",
    "for row in range(1, n+1):\n",
    "    for col in range(1, 2*n):\n",
    "        if row+col ==n+1 or col-row == n-1:\n",
    "            print(\"*\", end=\"\")\n",
    "        elif row == n and col!= k:\n",
    "            print(\"*\", end=\"\")\n",
    "            k= k+2\n",
    "        else:\n",
    "            print(end=\" \")\n",
    "    print()"
   ]
  },
  {
   "cell_type": "markdown",
   "metadata": {},
   "source": [
    "##  Perfect Numbers"
   ]
  },
  {
   "cell_type": "markdown",
   "metadata": {},
   "source": [
    "### Perfect number is the positive integer that is equal to the sum of its positive divisors excluding the number itself."
   ]
  },
  {
   "cell_type": "code",
   "execution_count": 8,
   "metadata": {},
   "outputs": [
    {
     "name": "stdout",
     "output_type": "stream",
     "text": [
      "Enter the number you want to check: 496\n",
      "496  Is a perfect Number.\n"
     ]
    }
   ],
   "source": [
    "num = int(input(\"Enter the number you want to check: \"))\n",
    "result = 0\n",
    "for i in range(1, num):\n",
    "    if (num%i)==0:\n",
    "        result = result+i\n",
    "if result == num:\n",
    "    print(num,\" Is a perfect Number.\")\n",
    "else:\n",
    "    print(num, \" is not a perfect number.\")\n",
    "    "
   ]
  },
  {
   "cell_type": "code",
   "execution_count": 12,
   "metadata": {},
   "outputs": [
    {
     "name": "stdout",
     "output_type": "stream",
     "text": [
      "Enter the lower Limit : 1\n",
      "Enter the upper Limit : 1000\n",
      "6\n",
      "28\n",
      "496\n"
     ]
    }
   ],
   "source": [
    "lower = int(input(\"Enter the lower Limit : \"))\n",
    "upper = int(input(\"Enter the upper Limit : \"))\n",
    "for num in range(lower, upper+1):\n",
    "    result = 0\n",
    "    for i in range(1, num):\n",
    "        if num%i ==0:\n",
    "            result = result+i\n",
    "    if result==num:\n",
    "        print(num)\n",
    "        \n"
   ]
  },
  {
   "cell_type": "markdown",
   "metadata": {},
   "source": [
    "### Program To Swap Two Numbers With or Without Using Third Variable"
   ]
  },
  {
   "cell_type": "code",
   "execution_count": 14,
   "metadata": {},
   "outputs": [
    {
     "name": "stdout",
     "output_type": "stream",
     "text": [
      "Enter the 'a' number : 5\n",
      "Enter the 'b' number : 10\n",
      "After swapping\n",
      "a is  10\n",
      "b is  5\n"
     ]
    }
   ],
   "source": [
    "a = int(input(\"Enter the 'a' number : \"))\n",
    "b = int(input(\"Enter the 'b' number : \"))\n",
    "temp = a\n",
    "a = b\n",
    "b = temp\n",
    "print(\"After swapping\")\n",
    "print(\"a is \", a)\n",
    "print(\"b is \", b)"
   ]
  },
  {
   "cell_type": "code",
   "execution_count": 16,
   "metadata": {},
   "outputs": [
    {
     "name": "stdout",
     "output_type": "stream",
     "text": [
      "Enter the 'a' number : 5\n",
      "Enter the 'b' number : 10\n",
      "After swapping\n",
      "a is  10\n",
      "b is  5\n"
     ]
    }
   ],
   "source": [
    "a = int(input(\"Enter the 'a' number : \"))\n",
    "b = int(input(\"Enter the 'b' number : \"))\n",
    "a = a+b\n",
    "b = a - b\n",
    "a = a - b\n",
    "print(\"After swapping\")\n",
    "print(\"a is \", a)\n",
    "print(\"b is \", b)"
   ]
  },
  {
   "cell_type": "markdown",
   "metadata": {},
   "source": [
    "### Printing Stars in Right Triangle Shape Using while loop"
   ]
  },
  {
   "cell_type": "code",
   "execution_count": 17,
   "metadata": {},
   "outputs": [
    {
     "name": "stdout",
     "output_type": "stream",
     "text": [
      "Enter the number : 5\n",
      "*\n",
      "**\n",
      "***\n",
      "****\n",
      "*****\n"
     ]
    }
   ],
   "source": [
    "num = int(input(\"Enter the number : \"))\n",
    "row = 0\n",
    "while row<num:\n",
    "    star = row+1\n",
    "    while star>0:\n",
    "        print(\"*\", end=\"\")\n",
    "        star = star-1\n",
    "    row= row+1\n",
    "    print()"
   ]
  },
  {
   "cell_type": "markdown",
   "metadata": {},
   "source": [
    "### Printing Stars in Pyramid Shape Using while loop"
   ]
  },
  {
   "cell_type": "code",
   "execution_count": 3,
   "metadata": {},
   "outputs": [
    {
     "name": "stdout",
     "output_type": "stream",
     "text": [
      "Enter the number of rows: 6\n",
      "     * \n",
      "    * * \n",
      "   * * * \n",
      "  * * * * \n",
      " * * * * * \n",
      "* * * * * * \n"
     ]
    }
   ],
   "source": [
    "num = int(input(\"Enter the number of rows: \"))\n",
    "row = 0\n",
    "while row < num:\n",
    "    space = num-row-1\n",
    "    while space>0:\n",
    "        print(end=\" \")\n",
    "        space = space - 1\n",
    "    star = row + 1\n",
    "    while star>0:\n",
    "        print(\"*\", end=' ')\n",
    "        star= star - 1\n",
    "    row = row + 1\n",
    "    print()\n",
    "    "
   ]
  },
  {
   "cell_type": "code",
   "execution_count": 1,
   "metadata": {},
   "outputs": [
    {
     "name": "stdout",
     "output_type": "stream",
     "text": [
      "Enter the nmber of rows: 5\n",
      "    * \n",
      "   * * \n",
      "  * * * \n",
      " * * * * \n",
      "* * * * * \n"
     ]
    }
   ],
   "source": [
    "n = int(input(\"Enter the nmber of rows: \"))#5\n",
    "\n",
    "row = 0\n",
    "while row<n: #n=5  0<5\n",
    "    space = n-row-1\n",
    "    while space>0:\n",
    "        print(end=\" \")\n",
    "        space = space-1\n",
    "    star = row+1\n",
    "    while star>0:\n",
    "        print(\"*\", end=\" \")\n",
    "        star = star-1\n",
    "    row+=1\n",
    "    print()\n",
    "    \n",
    "    "
   ]
  },
  {
   "cell_type": "markdown",
   "metadata": {},
   "source": [
    "### Printing Stars in Hollow Diamond Shape"
   ]
  },
  {
   "cell_type": "code",
   "execution_count": 4,
   "metadata": {},
   "outputs": [
    {
     "name": "stdout",
     "output_type": "stream",
     "text": [
      "  *  \n",
      " * * \n",
      "*   *\n",
      " * * \n",
      "  *  \n"
     ]
    }
   ],
   "source": [
    "for row in range(5):\n",
    "    for col in range(5):\n",
    "        if row+col ==2 or col-row ==2 or row-col ==2 or row+col==6:\n",
    "            print(\"*\",end=\"\")\n",
    "        else:\n",
    "            print(end=\" \")\n",
    "    print()"
   ]
  },
  {
   "cell_type": "code",
   "execution_count": 5,
   "metadata": {},
   "outputs": [
    {
     "name": "stdout",
     "output_type": "stream",
     "text": [
      "   *   \n",
      "  * *  \n",
      " *   * \n",
      "*     *\n",
      " *   * \n",
      "  * *  \n",
      "   *   \n"
     ]
    }
   ],
   "source": [
    "for row in range(7):\n",
    "    for col in range(7):\n",
    "        if row+col ==3 or col-row ==3 or row-col ==3 or row+col==9:\n",
    "            print(\"*\",end=\"\")\n",
    "        else:\n",
    "            print(end=\" \")\n",
    "    print()"
   ]
  },
  {
   "cell_type": "markdown",
   "metadata": {},
   "source": [
    "### Reverse a String Using for loop"
   ]
  },
  {
   "cell_type": "code",
   "execution_count": 2,
   "metadata": {},
   "outputs": [
    {
     "name": "stdout",
     "output_type": "stream",
     "text": [
      "Enter the string : akshu\n",
      "Entered string is  akshu\n",
      "Reversed sting is :  uhska\n"
     ]
    }
   ],
   "source": [
    "def reverse(string):\n",
    "    reverse_string = \"\"\n",
    "    for i in string:\n",
    "        reverse_string = i+ reverse_string\n",
    "    print(\"Reversed sting is : \", reverse_string)\n",
    "\n",
    "string = input(\"Enter the string : \")\n",
    "print(\"Entered string is \", string)\n",
    "reverse(string)"
   ]
  },
  {
   "cell_type": "markdown",
   "metadata": {},
   "source": [
    "### Program To Find out the GCD of Two Positive Numbers"
   ]
  },
  {
   "cell_type": "code",
   "execution_count": 5,
   "metadata": {},
   "outputs": [
    {
     "data": {
      "text/plain": [
       "2"
      ]
     },
     "execution_count": 5,
     "metadata": {},
     "output_type": "execute_result"
    }
   ],
   "source": [
    "18%4"
   ]
  },
  {
   "cell_type": "code",
   "execution_count": 9,
   "metadata": {},
   "outputs": [
    {
     "data": {
      "text/plain": [
       "2"
      ]
     },
     "execution_count": 9,
     "metadata": {},
     "output_type": "execute_result"
    }
   ],
   "source": [
    "import math \n",
    "math.gcd(4,18)"
   ]
  },
  {
   "cell_type": "code",
   "execution_count": 11,
   "metadata": {},
   "outputs": [
    {
     "name": "stdout",
     "output_type": "stream",
     "text": [
      "Enter first  number: 4\n",
      "Enter second number: 18\n",
      "2\n"
     ]
    }
   ],
   "source": [
    "def compute_gcd(a, b):\n",
    "    if b == 0:\n",
    "        return a\n",
    "    else:\n",
    "        return compute_gcd(b, a%b)\n",
    "num1 = int(input(\"Enter first  number: \"))\n",
    "num2 = int(input(\"Enter second number: \"))\n",
    "print(compute_gcd(num1, num2))"
   ]
  },
  {
   "cell_type": "markdown",
   "metadata": {},
   "source": [
    "### Printing Numbers in Pyramid Shape"
   ]
  },
  {
   "cell_type": "code",
   "execution_count": 12,
   "metadata": {},
   "outputs": [
    {
     "name": "stdout",
     "output_type": "stream",
     "text": [
      "Enter the row value : 5\n",
      "    1\n",
      "   212\n",
      "  32123\n",
      " 4321234\n",
      "543212345\n"
     ]
    }
   ],
   "source": [
    "num = int(input(\"Enter the row value : \"))\n",
    "for i in range(1, num+1):\n",
    "    for j in range(1, num-i+1):\n",
    "        print(end=\" \")\n",
    "    for j in range(i, 0, -1):\n",
    "        print(j, end=\"\")\n",
    "    for j in range(2, i+1):\n",
    "        print(j, end=\"\")\n",
    "    print()"
   ]
  },
  {
   "cell_type": "code",
   "execution_count": 10,
   "metadata": {},
   "outputs": [
    {
     "name": "stdout",
     "output_type": "stream",
     "text": [
      "A  \n"
     ]
    }
   ],
   "source": [
    "print(format(\"A\", \"<3\"),end=\"\")\n",
    "print(\"Z\")"
   ]
  },
  {
   "cell_type": "code",
   "execution_count": 1,
   "metadata": {},
   "outputs": [
    {
     "name": "stdout",
     "output_type": "stream",
     "text": [
      "Enter the row value : 11\n",
      "                              1  \n",
      "                           2  1  2  \n",
      "                        3  2  1  2  3  \n",
      "                     4  3  2  1  2  3  4  \n",
      "                  5  4  3  2  1  2  3  4  5  \n",
      "               6  5  4  3  2  1  2  3  4  5  6  \n",
      "            7  6  5  4  3  2  1  2  3  4  5  6  7  \n",
      "         8  7  6  5  4  3  2  1  2  3  4  5  6  7  8  \n",
      "      9  8  7  6  5  4  3  2  1  2  3  4  5  6  7  8  9  \n",
      "   10 9  8  7  6  5  4  3  2  1  2  3  4  5  6  7  8  9  10 \n",
      "11 10 9  8  7  6  5  4  3  2  1  2  3  4  5  6  7  8  9  10 11 \n"
     ]
    }
   ],
   "source": [
    "num = int(input(\"Enter the row value : \"))\n",
    "for i in range(1, num+1):\n",
    "    for j in range(1, num-i+1):\n",
    "        print(format(\" \",\"<3\"),end=\"\")\n",
    "    for j in range(i, 0, -1):\n",
    "        print(format(j, \"<3\"),end=\"\")\n",
    "    for j in range(2, i+1):\n",
    "        print(format(j, \"<3\"),end=\"\")\n",
    "    print()"
   ]
  },
  {
   "cell_type": "code",
   "execution_count": null,
   "metadata": {},
   "outputs": [],
   "source": []
  },
  {
   "cell_type": "code",
   "execution_count": 2,
   "metadata": {},
   "outputs": [
    {
     "name": "stdout",
     "output_type": "stream",
     "text": [
      "Enter the row value : 5\n",
      "            1     \n",
      "         2     2     \n",
      "      3     3     3     \n",
      "   4     4     4     4     \n",
      "5     5     5     5     5     \n"
     ]
    }
   ],
   "source": [
    "num = int(input(\"Enter the row value : \"))\n",
    "n = 1\n",
    "for row in range(num):\n",
    "    for col in range(num-row-1):\n",
    "        print(format(\" \",\"<3\"),end=\"\")\n",
    "    for col in range(row+1):\n",
    "        print(format(n, \"<6\"), end=\"\")\n",
    "    n= n+1\n",
    "    print()"
   ]
  },
  {
   "cell_type": "markdown",
   "metadata": {},
   "source": [
    "## Selection Sort Algorithm | Example"
   ]
  },
  {
   "cell_type": "markdown",
   "metadata": {},
   "source": [
    "#### Selection sort Algorithm:\n",
    "1. Starting from the first element search for smallest(biggest) element in the list of number.\n",
    "\n",
    "2. Swap minimum(maximum) number with first element.\n",
    "\n",
    "3. Take the sublist(ignore sorted part) and repeat step1 and 2 untill all \n",
    "   the elements are sorted."
   ]
  },
  {
   "cell_type": "code",
   "execution_count": 10,
   "metadata": {},
   "outputs": [
    {
     "name": "stdout",
     "output_type": "stream",
     "text": [
      "[0, 6, 9, 12, 28, 87]\n"
     ]
    }
   ],
   "source": [
    "#Min to Max for non duplicate number\n",
    "list1 = [28, 12, 9, 87, 6, 0]\n",
    "for i in range(len(list1)):\n",
    "    min_value = min(list1[i:])\n",
    "    min_index = list1.index(min_value)\n",
    "    list1[i], list1[min_index] = list1[min_index], list1[i]\n",
    "\n",
    "print(list1)"
   ]
  },
  {
   "cell_type": "code",
   "execution_count": 12,
   "metadata": {},
   "outputs": [
    {
     "name": "stdout",
     "output_type": "stream",
     "text": [
      "[87, 28, 12, 9, 6, 0]\n"
     ]
    }
   ],
   "source": [
    "#Max to Min for non duplicate number\n",
    "list1 = [28, 12, 9, 87, 6, 0]\n",
    "for i in range(len(list1)):\n",
    "    min_value = max(list1[i:])\n",
    "    min_index = list1.index(min_value)\n",
    "    list1[i], list1[min_index] = list1[min_index], list1[i]\n",
    "\n",
    "print(list1)"
   ]
  },
  {
   "cell_type": "code",
   "execution_count": 15,
   "metadata": {},
   "outputs": [
    {
     "name": "stdout",
     "output_type": "stream",
     "text": [
      "Unsorted List [28, 12, 9, 87, 9, 6, 0]\n",
      "[0, 12, 9, 87, 9, 6, 28]\n",
      "[0, 6, 9, 87, 9, 12, 28]\n",
      "[0, 6, 9, 87, 9, 12, 28]\n",
      "[0, 6, 9, 9, 87, 12, 28]\n",
      "[0, 6, 9, 9, 12, 87, 28]\n",
      "[0, 6, 9, 9, 12, 28, 87]\n",
      "[0, 6, 9, 9, 12, 28, 87]\n"
     ]
    }
   ],
   "source": [
    "#Min to max for duplicate value.\n",
    "\n",
    "list1 = [28, 12, 9, 87, 9, 6, 0]\n",
    "print(\"Unsorted List\", list1)\n",
    "for i in range(len(list1)):\n",
    "    min_value = min(list1[i:])\n",
    "    min_index = list1.index(min_value, i)\n",
    "    list1[i], list1[min_index] = list1[min_index], list1[i]\n",
    "    print(list1)"
   ]
  },
  {
   "cell_type": "code",
   "execution_count": 16,
   "metadata": {},
   "outputs": [
    {
     "name": "stdout",
     "output_type": "stream",
     "text": [
      "Unsorted List [28, 12, 9, 87, 9, 6, 0]\n",
      "[0, 12, 9, 87, 9, 6, 28]\n",
      "[0, 6, 9, 87, 9, 12, 28]\n",
      "[0, 6, 9, 87, 9, 12, 28]\n",
      "[0, 6, 9, 9, 87, 12, 28]\n",
      "[0, 6, 9, 9, 12, 87, 28]\n",
      "[0, 6, 9, 9, 12, 28, 87]\n"
     ]
    }
   ],
   "source": [
    "list1 = [28, 12, 9, 87, 9, 6, 0]\n",
    "print(\"Unsorted List\", list1)\n",
    "for i in range(len(list1)-1):\n",
    "    min_value = min(list1[i:])\n",
    "    min_index = list1.index(min_value, i)\n",
    "    if list1[i] != list1[min_index]:\n",
    "        list1[i], list1[min_index] = list1[min_index], list1[i]\n",
    "            \n",
    "    print(list1)"
   ]
  },
  {
   "cell_type": "code",
   "execution_count": 18,
   "metadata": {},
   "outputs": [
    {
     "name": "stdout",
     "output_type": "stream",
     "text": [
      "Unsorted List [28, 12, 9, 9, 87, 6, 0]\n",
      "[0, 6, 9, 9, 12, 28, 87]\n"
     ]
    }
   ],
   "source": [
    "# Without using sort() in-built function.\n",
    "list1 = [28, 12, 9, 9, 87, 6, 0]\n",
    "print(\"Unsorted List\", list1)\n",
    "for i in range(len(list1)):\n",
    "    min_value = list1[i]\n",
    "    for j in range(i+1, len(list1)):\n",
    "        if list1[j] < min_value:\n",
    "            min_value = list1[j]\n",
    "    min_index = list1.index(min_value, i)\n",
    "    list1[i], list1[min_index] = list1[min_index], list1[i]\n",
    "print(list1)"
   ]
  },
  {
   "cell_type": "code",
   "execution_count": 20,
   "metadata": {},
   "outputs": [
    {
     "name": "stdout",
     "output_type": "stream",
     "text": [
      "Enter the number of element you want to sort.?4\n",
      "Enter the number: 12\n",
      "Enter the number: 15\n",
      "Enter the number: 76\n",
      "Enter the number: 0\n",
      "Unsorted List [12, 15, 76, 0]\n",
      "[0, 12, 15, 76]\n"
     ]
    }
   ],
   "source": [
    "num = int(input(\"Enter the number of element you want to sort.?\"))\n",
    "list1 = [int(input(\"Enter the number: \")) for x in range(num)]\n",
    "\n",
    "print(\"Unsorted List\", list1)\n",
    "for i in range(len(list1)):\n",
    "    min_value = list1[i]\n",
    "    for j in range(i+1, len(list1)):\n",
    "        if list1[j] < min_value:\n",
    "            min_value = list1[j]\n",
    "    min_index = list1.index(min_value, i)\n",
    "    list1[i], list1[min_index] = list1[min_index], list1[i]\n",
    "print(list1)"
   ]
  },
  {
   "cell_type": "markdown",
   "metadata": {},
   "source": [
    "## Bubble Sort"
   ]
  },
  {
   "cell_type": "markdown",
   "metadata": {},
   "source": [
    "### Bubble Sort : Some times referred as sinking sort, is a simple sorting algrothim which sorts n number of elements in the list by comparing the wach pair of adjacent items and swap then if the ar in wrong order.\n"
   ]
  },
  {
   "cell_type": "markdown",
   "metadata": {},
   "source": [
    "1. Starting with the first element(index = 0) compare the current element with the next element of the list. \n",
    "2. If the current element is greater the the next element of the list swap them. \n",
    "3. If the current element is less then the next element, move to the next element. Repeat step 1."
   ]
  },
  {
   "cell_type": "code",
   "execution_count": 2,
   "metadata": {},
   "outputs": [
    {
     "name": "stdout",
     "output_type": "stream",
     "text": [
      "Unsorted List :  [9, 12, 28, 0, 17, 12]\n",
      "Sorted List   :  [0, 9, 12, 12, 17, 28]\n"
     ]
    }
   ],
   "source": [
    "#Bubble\n",
    "list1 = [9, 12, 28, 0, 17,12]\n",
    "print(\"Unsorted List : \", list1)\n",
    "for j in range(len(list1)-1):\n",
    "    for i in range(len(list1)-1):\n",
    "        if list1[i] > list1[i+1]: # In Assending order\n",
    "            list1[i], list1[i+1] = list1[i+1], list1[i]\n",
    "print(\"Sorted List   : \", list1)"
   ]
  },
  {
   "cell_type": "code",
   "execution_count": 4,
   "metadata": {},
   "outputs": [
    {
     "name": "stdout",
     "output_type": "stream",
     "text": [
      "Enter the number of element : 5\n",
      "Enter the number: \n",
      "9\n",
      "12\n",
      "8\n",
      "0\n",
      "17\n",
      "Unsorted List :  [9, 12, 8, 0, 17]\n",
      "Sorted List   :  [17, 12, 9, 8, 0]\n"
     ]
    }
   ],
   "source": [
    "list1 = []\n",
    "num = int(input(\"Enter the number of element : \"))\n",
    "print(\"Enter the number: \")\n",
    "for k in range(num):\n",
    "    list1.append(int(input()))\n",
    "\n",
    "    \n",
    "print(\"Unsorted List : \", list1)\n",
    "for j in range(len(list1)-1):\n",
    "    for i in range(len(list1)-1):\n",
    "        if list1[i] < list1[i+1]: # In Descending order\n",
    "            list1[i], list1[i+1] = list1[i+1], list1[i]\n",
    "print(\"Sorted List   : \", list1)"
   ]
  },
  {
   "cell_type": "code",
   "execution_count": 6,
   "metadata": {},
   "outputs": [
    {
     "name": "stdout",
     "output_type": "stream",
     "text": [
      "Unsorted List :  [9, 12, 28, 0, 17]\n",
      "[9, 12, 28, 0, 17]\n",
      "[9, 12, 28, 0, 17]\n",
      "[9, 12, 0, 28, 17]\n",
      "[9, 12, 0, 17, 28]\n",
      "\n",
      "[9, 12, 0, 17, 28]\n",
      "[9, 0, 12, 17, 28]\n",
      "[9, 0, 12, 17, 28]\n",
      "[9, 0, 12, 17, 28]\n",
      "\n",
      "[0, 9, 12, 17, 28]\n",
      "[0, 9, 12, 17, 28]\n",
      "[0, 9, 12, 17, 28]\n",
      "[0, 9, 12, 17, 28]\n",
      "\n",
      "[0, 9, 12, 17, 28]\n",
      "[0, 9, 12, 17, 28]\n",
      "[0, 9, 12, 17, 28]\n",
      "[0, 9, 12, 17, 28]\n",
      "\n",
      "Sorted List   :  [0, 9, 12, 17, 28]\n"
     ]
    }
   ],
   "source": [
    "list1 = [9, 12, 28, 0, 17]\n",
    "print(\"Unsorted List : \", list1)\n",
    "for j in range(len(list1)-1):\n",
    "    for i in range(len(list1)-1):\n",
    "        if list1[i] > list1[i+1]: # In Assending order\n",
    "            list1[i], list1[i+1] = list1[i+1], list1[i]\n",
    "            print(list1)\n",
    "        else:\n",
    "            print(list1) # To print all the steps of swaping\n",
    "    print()\n",
    "print(\"Sorted List   : \", list1)"
   ]
  },
  {
   "cell_type": "markdown",
   "metadata": {},
   "source": [
    "### Palindrome Program"
   ]
  },
  {
   "cell_type": "code",
   "execution_count": 10,
   "metadata": {},
   "outputs": [
    {
     "name": "stdout",
     "output_type": "stream",
     "text": [
      "Enter the string : prateek\n",
      "Not a Palindrome  keetarp\n"
     ]
    }
   ],
   "source": [
    "string= input(\"Enter the string : \")\n",
    "rev_string = string[::-1]\n",
    "if string == rev_string:\n",
    "    print(\"Is a Palindrome \", rev_string)\n",
    "else:\n",
    "    print(\"Not a Palindrome \", rev_string)"
   ]
  },
  {
   "cell_type": "code",
   "execution_count": 12,
   "metadata": {},
   "outputs": [
    {
     "name": "stdout",
     "output_type": "stream",
     "text": [
      "Enter the Number : 121\n",
      "Is a Palindrome  121\n",
      "<class 'str'>\n"
     ]
    }
   ],
   "source": [
    "number = int(input(\"Enter the Number : \"))\n",
    "string = str(number)\n",
    "rev_string = string[::-1]\n",
    "if string == rev_string:\n",
    "    print(\"Is a Palindrome \", rev_string)\n",
    "else:\n",
    "    print(\"Not a Palindrome \", rev_string)\n",
    "print(type(rev_string))"
   ]
  },
  {
   "cell_type": "markdown",
   "metadata": {},
   "source": [
    "###  Program To Print Sum Of Digits Of Positive Integer Number"
   ]
  },
  {
   "cell_type": "code",
   "execution_count": 13,
   "metadata": {},
   "outputs": [
    {
     "name": "stdout",
     "output_type": "stream",
     "text": [
      "Enter the number you ned to find the sum : 1234\n",
      "Sum of the number is :  10\n"
     ]
    }
   ],
   "source": [
    "num = int(input(\"Enter the number you ned to find the sum : \"))\n",
    "result = 0\n",
    "while num>0:\n",
    "    digit = num%10\n",
    "    result = result+digit\n",
    "    num = num//10\n",
    "    \n",
    "print(\"Sum of the number is : \", result)"
   ]
  },
  {
   "cell_type": "code",
   "execution_count": 14,
   "metadata": {},
   "outputs": [
    {
     "name": "stdout",
     "output_type": "stream",
     "text": [
      "Enter the number you ned to find the sum : 123\n",
      "Sum of the number is :  6\n"
     ]
    }
   ],
   "source": [
    "num = int(input(\"Enter the number you ned to find the sum : \"))\n",
    "result = 0\n",
    "for i in range(len(str(num))):\n",
    "    digit = num%10\n",
    "    result = result+digit\n",
    "    num = num//10\n",
    "    \n",
    "print(\"Sum of the number is : \", result)"
   ]
  },
  {
   "cell_type": "markdown",
   "metadata": {},
   "source": [
    "## Quick Sort"
   ]
  },
  {
   "cell_type": "markdown",
   "metadata": {},
   "source": [
    "#### Also called as Pasrtition Exchange Sort  . Developed by Tony Hoare in 1959 and published in 1961. When implemented well it can be about 2 or 3 times faster then its mail competitors merge sort and heap sort."
   ]
  },
  {
   "cell_type": "markdown",
   "metadata": {},
   "source": [
    "##### 1. Select the pivot element\n",
    "2. Find out the correct position of Pivot element in the list by rearranging it\n",
    "3. Divide the list based on pivot element.\n",
    "4. Sort the  sublist recursively.\n"
   ]
  },
  {
   "cell_type": "code",
   "execution_count": 23,
   "metadata": {},
   "outputs": [
    {
     "name": "stdout",
     "output_type": "stream",
     "text": [
      "Unsorted list :  [26, 19, 23, 18, 9]\n",
      "Sorted list :  [9, 18, 19, 19, 26]\n"
     ]
    }
   ],
   "source": [
    "def pivot_place(list1, first, last):\n",
    "    pivot = list1[first]\n",
    "    left = first+1\n",
    "    right = last\n",
    "    while True:\n",
    "        while left <= right and list1[left] <= pivot:\n",
    "            left = left+1\n",
    "        while left <= right and list1[right] >= pivot:\n",
    "            right = right -1\n",
    "        if right < left:\n",
    "            break\n",
    "        else:\n",
    "            list1[left], list1[right] = list1[right], list1[first]\n",
    "    list1[first], list1[right] = list1[right], list1[first]\n",
    "    return right\n",
    "\n",
    "\n",
    "def quick(list1, first, last):\n",
    "    if first < last:\n",
    "        p = pivot_place(list1, first, last)\n",
    "        quick(list1, first, p-1)\n",
    "        quick(list1, p+1, last)\n",
    "        \n",
    "#Main function\n",
    "list1 = [26, 19, 23, 18, 9]\n",
    "print(\"Unsorted list : \",list1)\n",
    "n = len(list1)\n",
    "quick(list1, 0, n-1)\n",
    "print(\"Sorted list : \",list1)\n",
    "    \n",
    "            \n",
    "            "
   ]
  },
  {
   "cell_type": "code",
   "execution_count": 25,
   "metadata": {},
   "outputs": [
    {
     "name": "stdout",
     "output_type": "stream",
     "text": [
      "Unsorted list :  [26, 19, 23, 18, 9]\n",
      "Sorted list :  [26, 23, 19, 18, 9]\n"
     ]
    }
   ],
   "source": [
    "\n",
    "def pivot_place(list1, first, last):\n",
    "    pivot = list1[first]\n",
    "    left = first+1\n",
    "    right = last\n",
    "    while True:\n",
    "        while left <= right and list1[left] >= pivot: #In Descending order\n",
    "            left = left+1\n",
    "        while left <= right and list1[right] <= pivot: #In Descending order\n",
    "            right = right -1\n",
    "        if right < left:\n",
    "            break\n",
    "        else:\n",
    "            list1[left], list1[right] = list1[right], list1[first]\n",
    "    list1[first], list1[right] = list1[right], list1[first]\n",
    "    return right\n",
    "\n",
    "\n",
    "def quick(list1, first, last):\n",
    "    if first < last:\n",
    "        p = pivot_place(list1, first, last)\n",
    "        quick(list1, first, p-1)\n",
    "        quick(list1, p+1, last)\n",
    "        \n",
    "#Main function\n",
    "list1 = [26, 19, 23, 18, 9]\n",
    "print(\"Unsorted list : \",list1)\n",
    "n = len(list1)\n",
    "quick(list1, 0, n-1)\n",
    "print(\"Sorted list : \",list1)\n",
    "    \n",
    "            \n",
    "            "
   ]
  },
  {
   "cell_type": "code",
   "execution_count": null,
   "metadata": {},
   "outputs": [],
   "source": []
  },
  {
   "cell_type": "markdown",
   "metadata": {},
   "source": [
    "### Palindromic Prime Numbers in Python Programming"
   ]
  },
  {
   "cell_type": "code",
   "execution_count": 26,
   "metadata": {},
   "outputs": [
    {
     "name": "stdout",
     "output_type": "stream",
     "text": [
      "Enter the Number : 101\n"
     ]
    }
   ],
   "source": [
    "num = int(input(\"Enter the Number : \"))\n",
    "rev_string = int(str(num)[::-1])\n",
    "if string == rev_string:\n",
    "    if num>1:\n",
    "        for i in range(2, num):\n",
    "            if (num%i) == 0:\n",
    "                print(num,\" Not a prime number.\")\n",
    "                break\n",
    "    else: \n",
    "        print(num,\" is a prime number.\")\n",
    "    "
   ]
  },
  {
   "cell_type": "code",
   "execution_count": 5,
   "metadata": {},
   "outputs": [
    {
     "name": "stdout",
     "output_type": "stream",
     "text": [
      "[1, 2]\n"
     ]
    }
   ],
   "source": [
    "inlist = [3, 7]\n",
    "out = []\n",
    "for element in inlist:\n",
    "    count =1\n",
    "    while True:\n",
    "        if count < element:\n",
    "            count +=1\n",
    "            element = element -count\n",
    "        else:\n",
    "            out.append(element)\n",
    "            break\n",
    "print(out)\n",
    "        "
   ]
  },
  {
   "cell_type": "code",
   "execution_count": null,
   "metadata": {},
   "outputs": [],
   "source": []
  },
  {
   "cell_type": "code",
   "execution_count": null,
   "metadata": {},
   "outputs": [],
   "source": []
  },
  {
   "cell_type": "code",
   "execution_count": null,
   "metadata": {},
   "outputs": [],
   "source": []
  },
  {
   "cell_type": "code",
   "execution_count": null,
   "metadata": {},
   "outputs": [],
   "source": []
  },
  {
   "cell_type": "code",
   "execution_count": null,
   "metadata": {},
   "outputs": [],
   "source": []
  },
  {
   "cell_type": "code",
   "execution_count": null,
   "metadata": {},
   "outputs": [],
   "source": []
  }
 ],
 "metadata": {
  "kernelspec": {
   "display_name": "Python 3",
   "language": "python",
   "name": "python3"
  },
  "language_info": {
   "codemirror_mode": {
    "name": "ipython",
    "version": 3
   },
   "file_extension": ".py",
   "mimetype": "text/x-python",
   "name": "python",
   "nbconvert_exporter": "python",
   "pygments_lexer": "ipython3",
   "version": "3.7.1"
  }
 },
 "nbformat": 4,
 "nbformat_minor": 2
}
